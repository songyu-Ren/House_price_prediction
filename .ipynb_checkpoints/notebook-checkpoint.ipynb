{
 "cells": [
  {
   "cell_type": "code",
   "execution_count": 1,
   "metadata": {
    "execution": {
     "iopub.execute_input": "2022-12-11T10:28:45.697661Z",
     "iopub.status.busy": "2022-12-11T10:28:45.696481Z",
     "iopub.status.idle": "2022-12-11T10:28:48.976796Z",
     "shell.execute_reply": "2022-12-11T10:28:48.975537Z",
     "shell.execute_reply.started": "2022-12-11T10:28:45.697608Z"
    }
   },
   "outputs": [
    {
     "ename": "OSError",
     "evalue": "dlopen(/Users/songyuren/anaconda3/lib/python3.11/site-packages/mxnet/libmxnet.so, 0x0006): tried: '/Users/songyuren/anaconda3/lib/python3.11/site-packages/mxnet/libmxnet.so' (not a mach-o file), '/System/Volumes/Preboot/Cryptexes/OS/Users/songyuren/anaconda3/lib/python3.11/site-packages/mxnet/libmxnet.so' (no such file), '/Users/songyuren/anaconda3/lib/python3.11/site-packages/mxnet/libmxnet.so' (not a mach-o file)",
     "output_type": "error",
     "traceback": [
      "\u001b[0;31m---------------------------------------------------------------------------\u001b[0m",
      "\u001b[0;31mOSError\u001b[0m                                   Traceback (most recent call last)",
      "Cell \u001b[0;32mIn[1], line 3\u001b[0m\n\u001b[1;32m      1\u001b[0m \u001b[38;5;28;01mimport\u001b[39;00m \u001b[38;5;21;01mnumpy\u001b[39;00m \u001b[38;5;28;01mas\u001b[39;00m \u001b[38;5;21;01mnp\u001b[39;00m\n\u001b[1;32m      2\u001b[0m \u001b[38;5;28;01mimport\u001b[39;00m \u001b[38;5;21;01mpandas\u001b[39;00m \u001b[38;5;28;01mas\u001b[39;00m \u001b[38;5;21;01mpd\u001b[39;00m\n\u001b[0;32m----> 3\u001b[0m \u001b[38;5;28;01mfrom\u001b[39;00m \u001b[38;5;21;01mmxnet\u001b[39;00m \u001b[38;5;28;01mimport\u001b[39;00m autograd, init, gluon, nd\n\u001b[1;32m      4\u001b[0m \u001b[38;5;28;01mimport\u001b[39;00m \u001b[38;5;21;01mmxnet\u001b[39;00m\n\u001b[1;32m      5\u001b[0m \u001b[38;5;28;01mfrom\u001b[39;00m \u001b[38;5;21;01mmxnet\u001b[39;00m\u001b[38;5;21;01m.\u001b[39;00m\u001b[38;5;21;01mgluon\u001b[39;00m \u001b[38;5;28;01mimport\u001b[39;00m nn\n",
      "File \u001b[0;32m~/anaconda3/lib/python3.11/site-packages/mxnet/__init__.py:24\u001b[0m\n\u001b[1;32m     21\u001b[0m \u001b[38;5;124;03m\"\"\"MXNet: a concise, fast and flexible framework for deep learning.\"\"\"\u001b[39;00m\n\u001b[1;32m     22\u001b[0m \u001b[38;5;28;01mfrom\u001b[39;00m \u001b[38;5;21;01m__future__\u001b[39;00m \u001b[38;5;28;01mimport\u001b[39;00m absolute_import\n\u001b[0;32m---> 24\u001b[0m \u001b[38;5;28;01mfrom\u001b[39;00m \u001b[38;5;21;01m.\u001b[39;00m\u001b[38;5;21;01mcontext\u001b[39;00m \u001b[38;5;28;01mimport\u001b[39;00m Context, current_context, cpu, gpu, cpu_pinned\n\u001b[1;32m     25\u001b[0m \u001b[38;5;28;01mfrom\u001b[39;00m \u001b[38;5;21;01m.\u001b[39;00m \u001b[38;5;28;01mimport\u001b[39;00m engine\n\u001b[1;32m     26\u001b[0m \u001b[38;5;28;01mfrom\u001b[39;00m \u001b[38;5;21;01m.\u001b[39;00m\u001b[38;5;21;01mbase\u001b[39;00m \u001b[38;5;28;01mimport\u001b[39;00m MXNetError\n",
      "File \u001b[0;32m~/anaconda3/lib/python3.11/site-packages/mxnet/context.py:24\u001b[0m\n\u001b[1;32m     22\u001b[0m \u001b[38;5;28;01mimport\u001b[39;00m \u001b[38;5;21;01mwarnings\u001b[39;00m\n\u001b[1;32m     23\u001b[0m \u001b[38;5;28;01mimport\u001b[39;00m \u001b[38;5;21;01mctypes\u001b[39;00m\n\u001b[0;32m---> 24\u001b[0m \u001b[38;5;28;01mfrom\u001b[39;00m \u001b[38;5;21;01m.\u001b[39;00m\u001b[38;5;21;01mbase\u001b[39;00m \u001b[38;5;28;01mimport\u001b[39;00m classproperty, with_metaclass, _MXClassPropertyMetaClass\n\u001b[1;32m     25\u001b[0m \u001b[38;5;28;01mfrom\u001b[39;00m \u001b[38;5;21;01m.\u001b[39;00m\u001b[38;5;21;01mbase\u001b[39;00m \u001b[38;5;28;01mimport\u001b[39;00m _LIB\n\u001b[1;32m     26\u001b[0m \u001b[38;5;28;01mfrom\u001b[39;00m \u001b[38;5;21;01m.\u001b[39;00m\u001b[38;5;21;01mbase\u001b[39;00m \u001b[38;5;28;01mimport\u001b[39;00m check_call\n",
      "File \u001b[0;32m~/anaconda3/lib/python3.11/site-packages/mxnet/base.py:214\u001b[0m\n\u001b[1;32m    212\u001b[0m __version__ \u001b[38;5;241m=\u001b[39m libinfo\u001b[38;5;241m.\u001b[39m__version__\n\u001b[1;32m    213\u001b[0m \u001b[38;5;66;03m# library instance of mxnet\u001b[39;00m\n\u001b[0;32m--> 214\u001b[0m _LIB \u001b[38;5;241m=\u001b[39m _load_lib()\n\u001b[1;32m    216\u001b[0m \u001b[38;5;66;03m# type definitions\u001b[39;00m\n\u001b[1;32m    217\u001b[0m mx_int \u001b[38;5;241m=\u001b[39m ctypes\u001b[38;5;241m.\u001b[39mc_int\n",
      "File \u001b[0;32m~/anaconda3/lib/python3.11/site-packages/mxnet/base.py:205\u001b[0m, in \u001b[0;36m_load_lib\u001b[0;34m()\u001b[0m\n\u001b[1;32m    203\u001b[0m \u001b[38;5;250m\u001b[39m\u001b[38;5;124;03m\"\"\"Load library by searching possible path.\"\"\"\u001b[39;00m\n\u001b[1;32m    204\u001b[0m lib_path \u001b[38;5;241m=\u001b[39m libinfo\u001b[38;5;241m.\u001b[39mfind_lib_path()\n\u001b[0;32m--> 205\u001b[0m lib \u001b[38;5;241m=\u001b[39m ctypes\u001b[38;5;241m.\u001b[39mCDLL(lib_path[\u001b[38;5;241m0\u001b[39m], ctypes\u001b[38;5;241m.\u001b[39mRTLD_LOCAL)\n\u001b[1;32m    206\u001b[0m \u001b[38;5;66;03m# DMatrix functions\u001b[39;00m\n\u001b[1;32m    207\u001b[0m lib\u001b[38;5;241m.\u001b[39mMXGetLastError\u001b[38;5;241m.\u001b[39mrestype \u001b[38;5;241m=\u001b[39m ctypes\u001b[38;5;241m.\u001b[39mc_char_p\n",
      "File \u001b[0;32m~/anaconda3/lib/python3.11/ctypes/__init__.py:376\u001b[0m, in \u001b[0;36mCDLL.__init__\u001b[0;34m(self, name, mode, handle, use_errno, use_last_error, winmode)\u001b[0m\n\u001b[1;32m    373\u001b[0m \u001b[38;5;28mself\u001b[39m\u001b[38;5;241m.\u001b[39m_FuncPtr \u001b[38;5;241m=\u001b[39m _FuncPtr\n\u001b[1;32m    375\u001b[0m \u001b[38;5;28;01mif\u001b[39;00m handle \u001b[38;5;129;01mis\u001b[39;00m \u001b[38;5;28;01mNone\u001b[39;00m:\n\u001b[0;32m--> 376\u001b[0m     \u001b[38;5;28mself\u001b[39m\u001b[38;5;241m.\u001b[39m_handle \u001b[38;5;241m=\u001b[39m _dlopen(\u001b[38;5;28mself\u001b[39m\u001b[38;5;241m.\u001b[39m_name, mode)\n\u001b[1;32m    377\u001b[0m \u001b[38;5;28;01melse\u001b[39;00m:\n\u001b[1;32m    378\u001b[0m     \u001b[38;5;28mself\u001b[39m\u001b[38;5;241m.\u001b[39m_handle \u001b[38;5;241m=\u001b[39m handle\n",
      "\u001b[0;31mOSError\u001b[0m: dlopen(/Users/songyuren/anaconda3/lib/python3.11/site-packages/mxnet/libmxnet.so, 0x0006): tried: '/Users/songyuren/anaconda3/lib/python3.11/site-packages/mxnet/libmxnet.so' (not a mach-o file), '/System/Volumes/Preboot/Cryptexes/OS/Users/songyuren/anaconda3/lib/python3.11/site-packages/mxnet/libmxnet.so' (no such file), '/Users/songyuren/anaconda3/lib/python3.11/site-packages/mxnet/libmxnet.so' (not a mach-o file)"
     ]
    }
   ],
   "source": [
    "import numpy as np\n",
    "import pandas as pd\n",
    "from mxnet import autograd, init, gluon, nd\n",
    "import mxnet\n",
    "from mxnet.gluon import nn\n",
    "from mxnet.gluon import data as gdata\n",
    "from mxnet.gluon import loss as gloss\n"
   ]
  },
  {
   "cell_type": "code",
   "execution_count": null,
   "metadata": {
    "execution": {
     "iopub.execute_input": "2022-12-11T10:28:48.979273Z",
     "iopub.status.busy": "2022-12-11T10:28:48.978777Z",
     "iopub.status.idle": "2022-12-11T10:28:49.064630Z",
     "shell.execute_reply": "2022-12-11T10:28:49.063482Z",
     "shell.execute_reply.started": "2022-12-11T10:28:48.979226Z"
    }
   },
   "outputs": [],
   "source": [
    "train_data = pd.read_csv('/kaggle/input/house-prices-advanced-regression-techniques/train.csv')\n",
    "test_data = pd.read_csv('/kaggle/input/house-prices-advanced-regression-techniques/test.csv')"
   ]
  },
  {
   "cell_type": "raw",
   "metadata": {
    "execution": {
     "iopub.execute_input": "2022-12-11T04:27:49.887686Z",
     "iopub.status.busy": "2022-12-11T04:27:49.887335Z",
     "iopub.status.idle": "2022-12-11T04:27:49.894779Z",
     "shell.execute_reply": "2022-12-11T04:27:49.893916Z",
     "shell.execute_reply.started": "2022-12-11T04:27:49.887657Z"
    }
   },
   "source": [
    "test_data.shape"
   ]
  },
  {
   "cell_type": "code",
   "execution_count": null,
   "metadata": {
    "execution": {
     "iopub.execute_input": "2022-12-11T10:28:49.068032Z",
     "iopub.status.busy": "2022-12-11T10:28:49.067668Z",
     "iopub.status.idle": "2022-12-11T10:28:49.094111Z",
     "shell.execute_reply": "2022-12-11T10:28:49.092910Z",
     "shell.execute_reply.started": "2022-12-11T10:28:49.067998Z"
    }
   },
   "outputs": [],
   "source": [
    "train_data.iloc[0:4, [0, 1, 2, 3, -3, -2, -1]]"
   ]
  },
  {
   "cell_type": "code",
   "execution_count": null,
   "metadata": {
    "execution": {
     "iopub.execute_input": "2022-12-11T10:28:49.096631Z",
     "iopub.status.busy": "2022-12-11T10:28:49.096181Z",
     "iopub.status.idle": "2022-12-11T10:28:49.120440Z",
     "shell.execute_reply": "2022-12-11T10:28:49.119107Z",
     "shell.execute_reply.started": "2022-12-11T10:28:49.096582Z"
    }
   },
   "outputs": [],
   "source": [
    "all_features = pd.concat((train_data.iloc[:, 1:-1], test_data.iloc[:, 1:]))"
   ]
  },
  {
   "cell_type": "code",
   "execution_count": null,
   "metadata": {
    "execution": {
     "iopub.execute_input": "2022-12-11T10:28:49.122011Z",
     "iopub.status.busy": "2022-12-11T10:28:49.121691Z",
     "iopub.status.idle": "2022-12-11T10:28:49.129669Z",
     "shell.execute_reply": "2022-12-11T10:28:49.128213Z",
     "shell.execute_reply.started": "2022-12-11T10:28:49.121983Z"
    }
   },
   "outputs": [],
   "source": [
    "numeric_features = all_features.dtypes[all_features.dtypes != 'object'].index"
   ]
  },
  {
   "cell_type": "code",
   "execution_count": null,
   "metadata": {
    "execution": {
     "iopub.execute_input": "2022-12-11T10:28:49.132702Z",
     "iopub.status.busy": "2022-12-11T10:28:49.131429Z",
     "iopub.status.idle": "2022-12-11T10:28:49.142465Z",
     "shell.execute_reply": "2022-12-11T10:28:49.141287Z",
     "shell.execute_reply.started": "2022-12-11T10:28:49.132655Z"
    }
   },
   "outputs": [],
   "source": [
    "numeric_features"
   ]
  },
  {
   "cell_type": "code",
   "execution_count": null,
   "metadata": {
    "execution": {
     "iopub.execute_input": "2022-12-11T10:28:49.147294Z",
     "iopub.status.busy": "2022-12-11T10:28:49.144117Z",
     "iopub.status.idle": "2022-12-11T10:28:49.209356Z",
     "shell.execute_reply": "2022-12-11T10:28:49.208118Z",
     "shell.execute_reply.started": "2022-12-11T10:28:49.147243Z"
    }
   },
   "outputs": [],
   "source": [
    "all_features[numeric_features] = all_features[numeric_features].apply(lambda x:(x - x.mean())/(x.std()))\n",
    "all_features[numeric_features] = all_features[numeric_features].fillna(0)"
   ]
  },
  {
   "cell_type": "code",
   "execution_count": null,
   "metadata": {
    "execution": {
     "iopub.execute_input": "2022-12-11T10:28:49.212077Z",
     "iopub.status.busy": "2022-12-11T10:28:49.211254Z",
     "iopub.status.idle": "2022-12-11T10:28:49.285762Z",
     "shell.execute_reply": "2022-12-11T10:28:49.284425Z",
     "shell.execute_reply.started": "2022-12-11T10:28:49.212031Z"
    }
   },
   "outputs": [],
   "source": [
    "all_features = pd.get_dummies(all_features, dummy_na=True)\n",
    "all_features.shape"
   ]
  },
  {
   "cell_type": "code",
   "execution_count": null,
   "metadata": {
    "execution": {
     "iopub.execute_input": "2022-12-11T10:28:49.290990Z",
     "iopub.status.busy": "2022-12-11T10:28:49.290496Z",
     "iopub.status.idle": "2022-12-11T10:28:49.324825Z",
     "shell.execute_reply": "2022-12-11T10:28:49.323427Z",
     "shell.execute_reply.started": "2022-12-11T10:28:49.290954Z"
    }
   },
   "outputs": [],
   "source": [
    "n_train = train_data.shape[0]\n",
    "train_features = nd.array(all_features[:n_train].values)\n",
    "test_features = nd.array(all_features[n_train:].values)\n",
    "train_labels = nd.array(train_data.SalePrice.values).reshape((-1, 1))"
   ]
  },
  {
   "cell_type": "code",
   "execution_count": null,
   "metadata": {
    "execution": {
     "iopub.execute_input": "2022-12-11T10:28:49.328273Z",
     "iopub.status.busy": "2022-12-11T10:28:49.326506Z",
     "iopub.status.idle": "2022-12-11T10:28:49.337319Z",
     "shell.execute_reply": "2022-12-11T10:28:49.336053Z",
     "shell.execute_reply.started": "2022-12-11T10:28:49.328215Z"
    }
   },
   "outputs": [],
   "source": [
    "loss = gloss.L2Loss()\n",
    "model = nn.Sequential()\n",
    "model.add(nn.Dense(1))\n",
    "model.initialize()"
   ]
  },
  {
   "cell_type": "code",
   "execution_count": null,
   "metadata": {
    "execution": {
     "iopub.execute_input": "2022-12-11T10:47:39.161952Z",
     "iopub.status.busy": "2022-12-11T10:47:39.161561Z",
     "iopub.status.idle": "2022-12-11T10:47:39.168292Z",
     "shell.execute_reply": "2022-12-11T10:47:39.167439Z",
     "shell.execute_reply.started": "2022-12-11T10:47:39.161920Z"
    }
   },
   "outputs": [],
   "source": [
    "def log_rmse(model, features, labels):\n",
    "    clipped_preds = nd.clip(model(features), 1, float('inf'))\n",
    "    rmse = nd.sqrt(2 * loss(clipped_preds.log(), labels.log()).mean())\n",
    "    return rmse.asscalar()"
   ]
  },
  {
   "cell_type": "code",
   "execution_count": null,
   "metadata": {
    "execution": {
     "iopub.execute_input": "2022-12-11T10:47:09.110010Z",
     "iopub.status.busy": "2022-12-11T10:47:09.109522Z",
     "iopub.status.idle": "2022-12-11T10:47:09.119449Z",
     "shell.execute_reply": "2022-12-11T10:47:09.118220Z",
     "shell.execute_reply.started": "2022-12-11T10:47:09.109973Z"
    }
   },
   "outputs": [],
   "source": [
    "def train(model, train_features, train_labels, test_features, test_labels, num_epochs, learning_rate, weight_decay, batch_size):\n",
    "    train_ls, test_ls = [], []\n",
    "    train_iteration = gdata.DataLoader(gdata.ArrayDataset(train_features, train_labels), batch_size, shuffle=True)\n",
    "    trainer = gluon.Trainer(model.collect_params(), 'adam', {'learning_rate': learning_rate, 'wd': weight_decay})\n",
    "    for epoch in range(num_epochs):\n",
    "        for X, y in train_iteration:\n",
    "            with autograd.record():\n",
    "                l = loss(model(X), y)\n",
    "            l.backward()\n",
    "            trainer.step(batch_size)\n",
    "        train_ls.append(log_rmse(model, train_features, train_labels))\n",
    "        if test_labels is not None:\n",
    "            test_ls.append(log_rmse(model, test_features, test_labels))\n",
    "    \n",
    "    return train_ls, test_ls\n"
   ]
  },
  {
   "cell_type": "code",
   "execution_count": null,
   "metadata": {
    "execution": {
     "iopub.execute_input": "2022-12-11T10:28:49.363860Z",
     "iopub.status.busy": "2022-12-11T10:28:49.363415Z",
     "iopub.status.idle": "2022-12-11T10:28:49.374174Z",
     "shell.execute_reply": "2022-12-11T10:28:49.372896Z",
     "shell.execute_reply.started": "2022-12-11T10:28:49.363821Z"
    }
   },
   "outputs": [],
   "source": [
    "def get_k_fold_data(k, i, X, y):\n",
    "    assert k > 1\n",
    "    fold_size = X.shape[0] // k\n",
    "    X_train, y_train = None, None\n",
    "    for j in range(k):\n",
    "        idx = slice(j * fold_size, (j + 1) * fold_size)\n",
    "        X_part, y_part = X[idx,:], y[idx]\n",
    "        if j == i:\n",
    "            X_valid, y_valid = X_part, y_part\n",
    "        elif X_train is None:\n",
    "            X_train, y_train = X_part, y_part\n",
    "        else:\n",
    "            X_train = nd.concat(X_train, X_part, dim=0)\n",
    "            y_train = nd.concat(y_train, y_part, dim=0)\n",
    "        \n",
    "    return X_train, y_train, X_valid, y_valid\n"
   ]
  },
  {
   "cell_type": "code",
   "execution_count": null,
   "metadata": {
    "execution": {
     "iopub.execute_input": "2022-12-11T10:49:51.591694Z",
     "iopub.status.busy": "2022-12-11T10:49:51.591199Z",
     "iopub.status.idle": "2022-12-11T10:49:51.599168Z",
     "shell.execute_reply": "2022-12-11T10:49:51.598171Z",
     "shell.execute_reply.started": "2022-12-11T10:49:51.591650Z"
    }
   },
   "outputs": [],
   "source": [
    "def k_fold(k, X_train, y_train, num_epochs, learning_rate, weight_decay, batch_size):\n",
    "    train_l_sum, valid_l_sum = 0.0, 0.0\n",
    "    for i in range(k):\n",
    "        data = get_k_fold_data(k, i, X_train, y_train)\n",
    "        train_ls, valid_ls = train(model, *data, num_epochs, learning_rate, weight_decay, batch_size)\n",
    "        train_l_sum += train_ls[-1]\n",
    "        valid_l_sum += valid_ls[-1]\n",
    "        print(\"fold %d, train rmse: %.4f, valid rmse: %.4f\" % (i, train_ls[-1], valid_ls[-1]))\n",
    "    return train_l_sum / k, valid_l_sum / k\n",
    "\n",
    "            "
   ]
  },
  {
   "cell_type": "code",
   "execution_count": null,
   "metadata": {
    "execution": {
     "iopub.execute_input": "2022-12-11T10:59:28.963263Z",
     "iopub.status.busy": "2022-12-11T10:59:28.962794Z",
     "iopub.status.idle": "2022-12-11T10:59:28.969953Z",
     "shell.execute_reply": "2022-12-11T10:59:28.968796Z",
     "shell.execute_reply.started": "2022-12-11T10:59:28.963227Z"
    }
   },
   "outputs": [],
   "source": [
    "k, num_epochs, lr, weight_decay, batch_size = 5, 100, 2, 0, 64"
   ]
  },
  {
   "cell_type": "code",
   "execution_count": null,
   "metadata": {
    "execution": {
     "iopub.execute_input": "2022-12-11T10:59:30.737650Z",
     "iopub.status.busy": "2022-12-11T10:59:30.736267Z",
     "iopub.status.idle": "2022-12-11T11:00:12.752190Z",
     "shell.execute_reply": "2022-12-11T11:00:12.750439Z",
     "shell.execute_reply.started": "2022-12-11T10:59:30.737603Z"
    }
   },
   "outputs": [],
   "source": [
    "train_l, valid_l, = k_fold(k, train_features, train_labels, num_epochs, lr, weight_decay, batch_size)\n",
    "print(\"%d-fold validation: avg train rmse: %f, avg valid rmse：%f\" % (k, train_l, valid_l))"
   ]
  },
  {
   "cell_type": "code",
   "execution_count": null,
   "metadata": {
    "execution": {
     "iopub.execute_input": "2022-12-11T10:52:47.935859Z",
     "iopub.status.busy": "2022-12-11T10:52:47.935445Z",
     "iopub.status.idle": "2022-12-11T10:52:47.952810Z",
     "shell.execute_reply": "2022-12-11T10:52:47.951673Z",
     "shell.execute_reply.started": "2022-12-11T10:52:47.935829Z"
    }
   },
   "outputs": [],
   "source": [
    "preds = model(test_features).asnumpy()\n",
    "test_data['SalePrice'] = pd.Series(preds.reshape(1, -1)[0])\n",
    "submission = pd.concat([test_data['Id'], test_data['SalePrice']], axis = 1)\n",
    "submission.to_csv('submission.csv', index=False)"
   ]
  }
 ],
 "metadata": {
  "kernelspec": {
   "display_name": "Python 3 (ipykernel)",
   "language": "python",
   "name": "python3"
  },
  "language_info": {
   "codemirror_mode": {
    "name": "ipython",
    "version": 3
   },
   "file_extension": ".py",
   "mimetype": "text/x-python",
   "name": "python",
   "nbconvert_exporter": "python",
   "pygments_lexer": "ipython3",
   "version": "3.11.4"
  }
 },
 "nbformat": 4,
 "nbformat_minor": 4
}
